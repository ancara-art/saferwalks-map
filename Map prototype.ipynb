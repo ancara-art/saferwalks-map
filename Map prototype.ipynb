{
 "cells": [
  {
   "cell_type": "code",
   "execution_count": 4,
   "metadata": {},
   "outputs": [],
   "source": [
    "import pandas as pd\n",
    "import plotly.express as px\n",
    "import json\n",
    "from firebase import firebase"
   ]
  },
  {
   "cell_type": "code",
   "execution_count": 5,
   "metadata": {},
   "outputs": [],
   "source": [
    "#Tutorial we followed for reading data in firebase from python: https://morioh.com/p/4dca3ded4cea\n",
    "\n",
    "firebase = firebase.FirebaseApplication('https://safer-walks-default-rtdb.firebaseio.com/', None)\n",
    "parents_data = firebase.get('/RegisteredParents', '')"
   ]
  },
  {
   "cell_type": "code",
   "execution_count": 6,
   "metadata": {},
   "outputs": [
    {
     "data": {
      "text/html": [
       "<div>\n",
       "<style scoped>\n",
       "    .dataframe tbody tr th:only-of-type {\n",
       "        vertical-align: middle;\n",
       "    }\n",
       "\n",
       "    .dataframe tbody tr th {\n",
       "        vertical-align: top;\n",
       "    }\n",
       "\n",
       "    .dataframe thead th {\n",
       "        text-align: right;\n",
       "    }\n",
       "</style>\n",
       "<table border=\"1\" class=\"dataframe\">\n",
       "  <thead>\n",
       "    <tr style=\"text-align: right;\">\n",
       "      <th></th>\n",
       "      <th>school_long</th>\n",
       "      <th>school_lat</th>\n",
       "      <th>osm_id</th>\n",
       "      <th>school_name</th>\n",
       "    </tr>\n",
       "  </thead>\n",
       "  <tbody>\n",
       "    <tr>\n",
       "      <th>0</th>\n",
       "      <td>11.939127</td>\n",
       "      <td>57.694679</td>\n",
       "      <td>4742340</td>\n",
       "      <td>Fjällskolan</td>\n",
       "    </tr>\n",
       "    <tr>\n",
       "      <th>1</th>\n",
       "      <td>11.945730</td>\n",
       "      <td>57.696740</td>\n",
       "      <td>4768432</td>\n",
       "      <td>Oscar Fredriksskolan</td>\n",
       "    </tr>\n",
       "    <tr>\n",
       "      <th>2</th>\n",
       "      <td>18.116401</td>\n",
       "      <td>59.382723</td>\n",
       "      <td>4875003</td>\n",
       "      <td>Sticklinge skola</td>\n",
       "    </tr>\n",
       "    <tr>\n",
       "      <th>3</th>\n",
       "      <td>17.914796</td>\n",
       "      <td>59.482734</td>\n",
       "      <td>6062883</td>\n",
       "      <td>Rotsunda skola</td>\n",
       "    </tr>\n",
       "    <tr>\n",
       "      <th>4</th>\n",
       "      <td>17.920795</td>\n",
       "      <td>59.465465</td>\n",
       "      <td>13862875</td>\n",
       "      <td>Stallets skola</td>\n",
       "    </tr>\n",
       "    <tr>\n",
       "      <th>...</th>\n",
       "      <td>...</td>\n",
       "      <td>...</td>\n",
       "      <td>...</td>\n",
       "      <td>...</td>\n",
       "    </tr>\n",
       "    <tr>\n",
       "      <th>3105</th>\n",
       "      <td>14.499669</td>\n",
       "      <td>59.316717</td>\n",
       "      <td>871653648</td>\n",
       "      <td>Skrantaskolan</td>\n",
       "    </tr>\n",
       "    <tr>\n",
       "      <th>3106</th>\n",
       "      <td>14.077498</td>\n",
       "      <td>57.894733</td>\n",
       "      <td>871990590</td>\n",
       "      <td>I Ur och Skur Oxdragaren</td>\n",
       "    </tr>\n",
       "    <tr>\n",
       "      <th>3107</th>\n",
       "      <td>14.082188</td>\n",
       "      <td>57.919182</td>\n",
       "      <td>872880398</td>\n",
       "      <td>Förskolan Äventyret</td>\n",
       "    </tr>\n",
       "    <tr>\n",
       "      <th>3108</th>\n",
       "      <td>13.931429</td>\n",
       "      <td>55.456706</td>\n",
       "      <td>874056551</td>\n",
       "      <td>Köpingebro skola</td>\n",
       "    </tr>\n",
       "    <tr>\n",
       "      <th>3109</th>\n",
       "      <td>14.542982</td>\n",
       "      <td>60.993327</td>\n",
       "      <td>11521415</td>\n",
       "      <td>Utmelandsskolan</td>\n",
       "    </tr>\n",
       "  </tbody>\n",
       "</table>\n",
       "<p>3110 rows × 4 columns</p>\n",
       "</div>"
      ],
      "text/plain": [
       "      school_long  school_lat     osm_id               school_name\n",
       "0       11.939127   57.694679    4742340               Fjällskolan\n",
       "1       11.945730   57.696740    4768432      Oscar Fredriksskolan\n",
       "2       18.116401   59.382723    4875003          Sticklinge skola\n",
       "3       17.914796   59.482734    6062883            Rotsunda skola\n",
       "4       17.920795   59.465465   13862875            Stallets skola\n",
       "...           ...         ...        ...                       ...\n",
       "3105    14.499669   59.316717  871653648             Skrantaskolan\n",
       "3106    14.077498   57.894733  871990590  I Ur och Skur Oxdragaren\n",
       "3107    14.082188   57.919182  872880398       Förskolan Äventyret\n",
       "3108    13.931429   55.456706  874056551          Köpingebro skola\n",
       "3109    14.542982   60.993327   11521415           Utmelandsskolan\n",
       "\n",
       "[3110 rows x 4 columns]"
      ]
     },
     "execution_count": 6,
     "metadata": {},
     "output_type": "execute_result"
    }
   ],
   "source": [
    "#reading schoolsdata file which contains all schools in Sweden.\n",
    "schools_file = 'data/schools_data.csv'\n",
    "df_schools = pd.read_csv(schools_file)\n",
    "df_schools"
   ]
  },
  {
   "cell_type": "code",
   "execution_count": 7,
   "metadata": {},
   "outputs": [],
   "source": [
    "#Creating a dataframe from parents_data. \n",
    "df_parents = pd.DataFrame()\n",
    "for i, parent in enumerate(parents_data.values()):\n",
    "    df_parents = df_parents.append(pd.DataFrame(parent, index=[i]), ignore_index=True)"
   ]
  },
  {
   "cell_type": "code",
   "execution_count": 8,
   "metadata": {},
   "outputs": [],
   "source": [
    "#Splitting userLocation from df_parents, into latitude: user_lat and longitude: user_long.\n",
    "df_parents['user_lat'] = [float(s.split(',')[0]) for s in df_parents['userLocation']]\n",
    "df_parents['user_long'] = [float(s.split(',')[1]) for s in df_parents['userLocation']]"
   ]
  },
  {
   "cell_type": "code",
   "execution_count": 9,
   "metadata": {},
   "outputs": [],
   "source": [
    "#Merging df_schools into df_parents by schoolId(df_parents) and osm_id(df_schools)\n",
    "df = pd.merge(df_parents, df_schools, left_on='schoolId', right_on='osm_id')"
   ]
  },
  {
   "cell_type": "code",
   "execution_count": 38,
   "metadata": {
    "scrolled": true
   },
   "outputs": [
    {
     "data": {
      "text/plain": [
       "(109, 10)"
      ]
     },
     "execution_count": 38,
     "metadata": {},
     "output_type": "execute_result"
    }
   ],
   "source": [
    "df.shape"
   ]
  },
  {
   "cell_type": "code",
   "execution_count": null,
   "metadata": {},
   "outputs": [],
   "source": []
  },
  {
   "cell_type": "code",
   "execution_count": 11,
   "metadata": {},
   "outputs": [
    {
     "data": {
      "text/html": [
       "<div>\n",
       "<style scoped>\n",
       "    .dataframe tbody tr th:only-of-type {\n",
       "        vertical-align: middle;\n",
       "    }\n",
       "\n",
       "    .dataframe tbody tr th {\n",
       "        vertical-align: top;\n",
       "    }\n",
       "\n",
       "    .dataframe thead th {\n",
       "        text-align: right;\n",
       "    }\n",
       "</style>\n",
       "<table border=\"1\" class=\"dataframe\">\n",
       "  <thead>\n",
       "    <tr style=\"text-align: right;\">\n",
       "      <th></th>\n",
       "      <th>parentName</th>\n",
       "      <th>schoolId</th>\n",
       "      <th>timeRegistration</th>\n",
       "      <th>userLocation</th>\n",
       "      <th>user_lat</th>\n",
       "      <th>user_long</th>\n",
       "      <th>school_long</th>\n",
       "      <th>school_lat</th>\n",
       "      <th>osm_id</th>\n",
       "      <th>school_name</th>\n",
       "    </tr>\n",
       "  </thead>\n",
       "  <tbody>\n",
       "    <tr>\n",
       "      <th>0</th>\n",
       "      <td>Johan Eriksson</td>\n",
       "      <td>299737854</td>\n",
       "      <td>24, Dec, 2020, 12:05</td>\n",
       "      <td>59.2764315,17.8900085</td>\n",
       "      <td>59.276432</td>\n",
       "      <td>17.890009</td>\n",
       "      <td>17.899835</td>\n",
       "      <td>59.273127</td>\n",
       "      <td>299737854</td>\n",
       "      <td>Västerholms friskola</td>\n",
       "    </tr>\n",
       "    <tr>\n",
       "      <th>1</th>\n",
       "      <td>Sofia Andersson</td>\n",
       "      <td>299737854</td>\n",
       "      <td>24, Dec, 2020, 14:05</td>\n",
       "      <td>59.2770355,17.8899913</td>\n",
       "      <td>59.277035</td>\n",
       "      <td>17.889991</td>\n",
       "      <td>17.899835</td>\n",
       "      <td>59.273127</td>\n",
       "      <td>299737854</td>\n",
       "      <td>Västerholms friskola</td>\n",
       "    </tr>\n",
       "    <tr>\n",
       "      <th>2</th>\n",
       "      <td>Manpreet Singh</td>\n",
       "      <td>299737854</td>\n",
       "      <td>24, Dec, 2020, 15:28</td>\n",
       "      <td>59.2793401,17.8918366</td>\n",
       "      <td>59.279340</td>\n",
       "      <td>17.891837</td>\n",
       "      <td>17.899835</td>\n",
       "      <td>59.273127</td>\n",
       "      <td>299737854</td>\n",
       "      <td>Västerholms friskola</td>\n",
       "    </tr>\n",
       "    <tr>\n",
       "      <th>3</th>\n",
       "      <td>Petra Johansson</td>\n",
       "      <td>299737854</td>\n",
       "      <td>24, Dec, 2020, 15:36</td>\n",
       "      <td>59.2761426,17.8854605</td>\n",
       "      <td>59.276143</td>\n",
       "      <td>17.885461</td>\n",
       "      <td>17.899835</td>\n",
       "      <td>59.273127</td>\n",
       "      <td>299737854</td>\n",
       "      <td>Västerholms friskola</td>\n",
       "    </tr>\n",
       "    <tr>\n",
       "      <th>4</th>\n",
       "      <td>Joe Tribiani</td>\n",
       "      <td>299737854</td>\n",
       "      <td>01, Jan, 2021, 15:24</td>\n",
       "      <td>59.2803346,17.8913531</td>\n",
       "      <td>59.280335</td>\n",
       "      <td>17.891353</td>\n",
       "      <td>17.899835</td>\n",
       "      <td>59.273127</td>\n",
       "      <td>299737854</td>\n",
       "      <td>Västerholms friskola</td>\n",
       "    </tr>\n",
       "    <tr>\n",
       "      <th>...</th>\n",
       "      <td>...</td>\n",
       "      <td>...</td>\n",
       "      <td>...</td>\n",
       "      <td>...</td>\n",
       "      <td>...</td>\n",
       "      <td>...</td>\n",
       "      <td>...</td>\n",
       "      <td>...</td>\n",
       "      <td>...</td>\n",
       "      <td>...</td>\n",
       "    </tr>\n",
       "    <tr>\n",
       "      <th>104</th>\n",
       "      <td>Julia Roberts</td>\n",
       "      <td>208341119</td>\n",
       "      <td>04, Jan, 2021, 10:06</td>\n",
       "      <td>59.854693,17.6817418</td>\n",
       "      <td>59.854693</td>\n",
       "      <td>17.681742</td>\n",
       "      <td>17.691929</td>\n",
       "      <td>59.859437</td>\n",
       "      <td>208341119</td>\n",
       "      <td>Livets Ords kristna skola</td>\n",
       "    </tr>\n",
       "    <tr>\n",
       "      <th>105</th>\n",
       "      <td>Rina Dey</td>\n",
       "      <td>209257132</td>\n",
       "      <td>04, Jan, 2021, 10:42</td>\n",
       "      <td>59.8563024,17.6502813</td>\n",
       "      <td>59.856302</td>\n",
       "      <td>17.650281</td>\n",
       "      <td>17.637176</td>\n",
       "      <td>59.862557</td>\n",
       "      <td>209257132</td>\n",
       "      <td>Raoul Wallenbergskolan</td>\n",
       "    </tr>\n",
       "    <tr>\n",
       "      <th>106</th>\n",
       "      <td>Erika Skårgard</td>\n",
       "      <td>209257132</td>\n",
       "      <td>04, Jan, 2021, 10:42</td>\n",
       "      <td>59.8563024,17.6502813</td>\n",
       "      <td>59.856302</td>\n",
       "      <td>17.650281</td>\n",
       "      <td>17.637176</td>\n",
       "      <td>59.862557</td>\n",
       "      <td>209257132</td>\n",
       "      <td>Raoul Wallenbergskolan</td>\n",
       "    </tr>\n",
       "    <tr>\n",
       "      <th>107</th>\n",
       "      <td>Tom Cruise</td>\n",
       "      <td>209257132</td>\n",
       "      <td>04, Jan, 2021, 10:42</td>\n",
       "      <td>59.8563024,17.6502813</td>\n",
       "      <td>59.856302</td>\n",
       "      <td>17.650281</td>\n",
       "      <td>17.637176</td>\n",
       "      <td>59.862557</td>\n",
       "      <td>209257132</td>\n",
       "      <td>Raoul Wallenbergskolan</td>\n",
       "    </tr>\n",
       "    <tr>\n",
       "      <th>108</th>\n",
       "      <td>Tom Hanks</td>\n",
       "      <td>209257132</td>\n",
       "      <td>04, Jan, 2021, 10:42</td>\n",
       "      <td>59.8563024,17.6502813</td>\n",
       "      <td>59.856302</td>\n",
       "      <td>17.650281</td>\n",
       "      <td>17.637176</td>\n",
       "      <td>59.862557</td>\n",
       "      <td>209257132</td>\n",
       "      <td>Raoul Wallenbergskolan</td>\n",
       "    </tr>\n",
       "  </tbody>\n",
       "</table>\n",
       "<p>109 rows × 10 columns</p>\n",
       "</div>"
      ],
      "text/plain": [
       "          parentName   schoolId      timeRegistration           userLocation  \\\n",
       "0     Johan Eriksson  299737854  24, Dec, 2020, 12:05  59.2764315,17.8900085   \n",
       "1    Sofia Andersson  299737854  24, Dec, 2020, 14:05  59.2770355,17.8899913   \n",
       "2     Manpreet Singh  299737854  24, Dec, 2020, 15:28  59.2793401,17.8918366   \n",
       "3    Petra Johansson  299737854  24, Dec, 2020, 15:36  59.2761426,17.8854605   \n",
       "4       Joe Tribiani  299737854  01, Jan, 2021, 15:24  59.2803346,17.8913531   \n",
       "..               ...        ...                   ...                    ...   \n",
       "104    Julia Roberts  208341119  04, Jan, 2021, 10:06   59.854693,17.6817418   \n",
       "105         Rina Dey  209257132  04, Jan, 2021, 10:42  59.8563024,17.6502813   \n",
       "106   Erika Skårgard  209257132  04, Jan, 2021, 10:42  59.8563024,17.6502813   \n",
       "107       Tom Cruise  209257132  04, Jan, 2021, 10:42  59.8563024,17.6502813   \n",
       "108        Tom Hanks  209257132  04, Jan, 2021, 10:42  59.8563024,17.6502813   \n",
       "\n",
       "      user_lat  user_long  school_long  school_lat     osm_id  \\\n",
       "0    59.276432  17.890009    17.899835   59.273127  299737854   \n",
       "1    59.277035  17.889991    17.899835   59.273127  299737854   \n",
       "2    59.279340  17.891837    17.899835   59.273127  299737854   \n",
       "3    59.276143  17.885461    17.899835   59.273127  299737854   \n",
       "4    59.280335  17.891353    17.899835   59.273127  299737854   \n",
       "..         ...        ...          ...         ...        ...   \n",
       "104  59.854693  17.681742    17.691929   59.859437  208341119   \n",
       "105  59.856302  17.650281    17.637176   59.862557  209257132   \n",
       "106  59.856302  17.650281    17.637176   59.862557  209257132   \n",
       "107  59.856302  17.650281    17.637176   59.862557  209257132   \n",
       "108  59.856302  17.650281    17.637176   59.862557  209257132   \n",
       "\n",
       "                   school_name  \n",
       "0         Västerholms friskola  \n",
       "1         Västerholms friskola  \n",
       "2         Västerholms friskola  \n",
       "3         Västerholms friskola  \n",
       "4         Västerholms friskola  \n",
       "..                         ...  \n",
       "104  Livets Ords kristna skola  \n",
       "105     Raoul Wallenbergskolan  \n",
       "106     Raoul Wallenbergskolan  \n",
       "107     Raoul Wallenbergskolan  \n",
       "108     Raoul Wallenbergskolan  \n",
       "\n",
       "[109 rows x 10 columns]"
      ]
     },
     "execution_count": 11,
     "metadata": {},
     "output_type": "execute_result"
    }
   ],
   "source": [
    "df\n"
   ]
  },
  {
   "cell_type": "code",
   "execution_count": 12,
   "metadata": {},
   "outputs": [
    {
     "data": {
      "text/html": [
       "<div>\n",
       "<style scoped>\n",
       "    .dataframe tbody tr th:only-of-type {\n",
       "        vertical-align: middle;\n",
       "    }\n",
       "\n",
       "    .dataframe tbody tr th {\n",
       "        vertical-align: top;\n",
       "    }\n",
       "\n",
       "    .dataframe thead th {\n",
       "        text-align: right;\n",
       "    }\n",
       "</style>\n",
       "<table border=\"1\" class=\"dataframe\">\n",
       "  <thead>\n",
       "    <tr style=\"text-align: right;\">\n",
       "      <th></th>\n",
       "      <th>parentName</th>\n",
       "      <th>schoolId</th>\n",
       "      <th>timeRegistration</th>\n",
       "      <th>userLocation</th>\n",
       "      <th>user_lat</th>\n",
       "      <th>user_long</th>\n",
       "      <th>school_long</th>\n",
       "      <th>school_lat</th>\n",
       "      <th>osm_id</th>\n",
       "    </tr>\n",
       "    <tr>\n",
       "      <th>school_name</th>\n",
       "      <th></th>\n",
       "      <th></th>\n",
       "      <th></th>\n",
       "      <th></th>\n",
       "      <th></th>\n",
       "      <th></th>\n",
       "      <th></th>\n",
       "      <th></th>\n",
       "      <th></th>\n",
       "    </tr>\n",
       "  </thead>\n",
       "  <tbody>\n",
       "    <tr>\n",
       "      <th>Almtunaskolans matsal</th>\n",
       "      <td>3</td>\n",
       "      <td>3</td>\n",
       "      <td>3</td>\n",
       "      <td>3</td>\n",
       "      <td>3</td>\n",
       "      <td>3</td>\n",
       "      <td>3</td>\n",
       "      <td>3</td>\n",
       "      <td>3</td>\n",
       "    </tr>\n",
       "    <tr>\n",
       "      <th>Edsbergsskolan</th>\n",
       "      <td>11</td>\n",
       "      <td>11</td>\n",
       "      <td>11</td>\n",
       "      <td>11</td>\n",
       "      <td>11</td>\n",
       "      <td>11</td>\n",
       "      <td>11</td>\n",
       "      <td>11</td>\n",
       "      <td>11</td>\n",
       "    </tr>\n",
       "    <tr>\n",
       "      <th>Gärdeskolan</th>\n",
       "      <td>10</td>\n",
       "      <td>10</td>\n",
       "      <td>10</td>\n",
       "      <td>10</td>\n",
       "      <td>10</td>\n",
       "      <td>10</td>\n",
       "      <td>10</td>\n",
       "      <td>10</td>\n",
       "      <td>10</td>\n",
       "    </tr>\n",
       "    <tr>\n",
       "      <th>Hagalundsskolan</th>\n",
       "      <td>2</td>\n",
       "      <td>2</td>\n",
       "      <td>2</td>\n",
       "      <td>2</td>\n",
       "      <td>2</td>\n",
       "      <td>2</td>\n",
       "      <td>2</td>\n",
       "      <td>2</td>\n",
       "      <td>2</td>\n",
       "    </tr>\n",
       "    <tr>\n",
       "      <th>Kärrdalsskolan</th>\n",
       "      <td>5</td>\n",
       "      <td>5</td>\n",
       "      <td>5</td>\n",
       "      <td>5</td>\n",
       "      <td>5</td>\n",
       "      <td>5</td>\n",
       "      <td>5</td>\n",
       "      <td>5</td>\n",
       "      <td>5</td>\n",
       "    </tr>\n",
       "    <tr>\n",
       "      <th>Livets Ords kristna skola</th>\n",
       "      <td>5</td>\n",
       "      <td>5</td>\n",
       "      <td>5</td>\n",
       "      <td>5</td>\n",
       "      <td>5</td>\n",
       "      <td>5</td>\n",
       "      <td>5</td>\n",
       "      <td>5</td>\n",
       "      <td>5</td>\n",
       "    </tr>\n",
       "    <tr>\n",
       "      <th>Nordiska musikgymnasiet</th>\n",
       "      <td>2</td>\n",
       "      <td>2</td>\n",
       "      <td>2</td>\n",
       "      <td>2</td>\n",
       "      <td>2</td>\n",
       "      <td>2</td>\n",
       "      <td>2</td>\n",
       "      <td>2</td>\n",
       "      <td>2</td>\n",
       "    </tr>\n",
       "    <tr>\n",
       "      <th>Pysslingen</th>\n",
       "      <td>1</td>\n",
       "      <td>1</td>\n",
       "      <td>1</td>\n",
       "      <td>1</td>\n",
       "      <td>1</td>\n",
       "      <td>1</td>\n",
       "      <td>1</td>\n",
       "      <td>1</td>\n",
       "      <td>1</td>\n",
       "    </tr>\n",
       "    <tr>\n",
       "      <th>Pärlan</th>\n",
       "      <td>3</td>\n",
       "      <td>3</td>\n",
       "      <td>3</td>\n",
       "      <td>3</td>\n",
       "      <td>3</td>\n",
       "      <td>3</td>\n",
       "      <td>3</td>\n",
       "      <td>3</td>\n",
       "      <td>3</td>\n",
       "    </tr>\n",
       "    <tr>\n",
       "      <th>Raoul Wallenbergskolan</th>\n",
       "      <td>4</td>\n",
       "      <td>4</td>\n",
       "      <td>4</td>\n",
       "      <td>4</td>\n",
       "      <td>4</td>\n",
       "      <td>4</td>\n",
       "      <td>4</td>\n",
       "      <td>4</td>\n",
       "      <td>4</td>\n",
       "    </tr>\n",
       "    <tr>\n",
       "      <th>Rudbeck Valfrihetens Gymnasium</th>\n",
       "      <td>9</td>\n",
       "      <td>9</td>\n",
       "      <td>9</td>\n",
       "      <td>9</td>\n",
       "      <td>9</td>\n",
       "      <td>9</td>\n",
       "      <td>9</td>\n",
       "      <td>9</td>\n",
       "      <td>9</td>\n",
       "    </tr>\n",
       "    <tr>\n",
       "      <th>Råsunda skola</th>\n",
       "      <td>3</td>\n",
       "      <td>3</td>\n",
       "      <td>3</td>\n",
       "      <td>3</td>\n",
       "      <td>3</td>\n",
       "      <td>3</td>\n",
       "      <td>3</td>\n",
       "      <td>3</td>\n",
       "      <td>3</td>\n",
       "    </tr>\n",
       "    <tr>\n",
       "      <th>Rösjöskolan</th>\n",
       "      <td>12</td>\n",
       "      <td>12</td>\n",
       "      <td>12</td>\n",
       "      <td>12</td>\n",
       "      <td>12</td>\n",
       "      <td>12</td>\n",
       "      <td>12</td>\n",
       "      <td>12</td>\n",
       "      <td>12</td>\n",
       "    </tr>\n",
       "    <tr>\n",
       "      <th>Segelbåtens förskola</th>\n",
       "      <td>1</td>\n",
       "      <td>1</td>\n",
       "      <td>1</td>\n",
       "      <td>1</td>\n",
       "      <td>1</td>\n",
       "      <td>1</td>\n",
       "      <td>1</td>\n",
       "      <td>1</td>\n",
       "      <td>1</td>\n",
       "    </tr>\n",
       "    <tr>\n",
       "      <th>Skärholmens Gymnasieskolor</th>\n",
       "      <td>7</td>\n",
       "      <td>7</td>\n",
       "      <td>7</td>\n",
       "      <td>7</td>\n",
       "      <td>7</td>\n",
       "      <td>7</td>\n",
       "      <td>7</td>\n",
       "      <td>7</td>\n",
       "      <td>7</td>\n",
       "    </tr>\n",
       "    <tr>\n",
       "      <th>Sofielundsskolan</th>\n",
       "      <td>4</td>\n",
       "      <td>4</td>\n",
       "      <td>4</td>\n",
       "      <td>4</td>\n",
       "      <td>4</td>\n",
       "      <td>4</td>\n",
       "      <td>4</td>\n",
       "      <td>4</td>\n",
       "      <td>4</td>\n",
       "    </tr>\n",
       "    <tr>\n",
       "      <th>Stockholm International School</th>\n",
       "      <td>3</td>\n",
       "      <td>3</td>\n",
       "      <td>3</td>\n",
       "      <td>3</td>\n",
       "      <td>3</td>\n",
       "      <td>3</td>\n",
       "      <td>3</td>\n",
       "      <td>3</td>\n",
       "      <td>3</td>\n",
       "    </tr>\n",
       "    <tr>\n",
       "      <th>Stocksundsskolan</th>\n",
       "      <td>1</td>\n",
       "      <td>1</td>\n",
       "      <td>1</td>\n",
       "      <td>1</td>\n",
       "      <td>1</td>\n",
       "      <td>1</td>\n",
       "      <td>1</td>\n",
       "      <td>1</td>\n",
       "      <td>1</td>\n",
       "    </tr>\n",
       "    <tr>\n",
       "      <th>Sätraskolan</th>\n",
       "      <td>9</td>\n",
       "      <td>9</td>\n",
       "      <td>9</td>\n",
       "      <td>9</td>\n",
       "      <td>9</td>\n",
       "      <td>9</td>\n",
       "      <td>9</td>\n",
       "      <td>9</td>\n",
       "      <td>9</td>\n",
       "    </tr>\n",
       "    <tr>\n",
       "      <th>Ulriksdalsskolan</th>\n",
       "      <td>3</td>\n",
       "      <td>3</td>\n",
       "      <td>3</td>\n",
       "      <td>3</td>\n",
       "      <td>3</td>\n",
       "      <td>3</td>\n",
       "      <td>3</td>\n",
       "      <td>3</td>\n",
       "      <td>3</td>\n",
       "    </tr>\n",
       "    <tr>\n",
       "      <th>Vittra Rösjötorp</th>\n",
       "      <td>5</td>\n",
       "      <td>5</td>\n",
       "      <td>5</td>\n",
       "      <td>5</td>\n",
       "      <td>5</td>\n",
       "      <td>5</td>\n",
       "      <td>5</td>\n",
       "      <td>5</td>\n",
       "      <td>5</td>\n",
       "    </tr>\n",
       "    <tr>\n",
       "      <th>Västerholms friskola</th>\n",
       "      <td>6</td>\n",
       "      <td>6</td>\n",
       "      <td>6</td>\n",
       "      <td>6</td>\n",
       "      <td>6</td>\n",
       "      <td>6</td>\n",
       "      <td>6</td>\n",
       "      <td>6</td>\n",
       "      <td>6</td>\n",
       "    </tr>\n",
       "  </tbody>\n",
       "</table>\n",
       "</div>"
      ],
      "text/plain": [
       "                                parentName  schoolId  timeRegistration  \\\n",
       "school_name                                                              \n",
       "Almtunaskolans matsal                    3         3                 3   \n",
       "Edsbergsskolan                          11        11                11   \n",
       "Gärdeskolan                             10        10                10   \n",
       "Hagalundsskolan                          2         2                 2   \n",
       "Kärrdalsskolan                           5         5                 5   \n",
       "Livets Ords kristna skola                5         5                 5   \n",
       "Nordiska musikgymnasiet                  2         2                 2   \n",
       "Pysslingen                               1         1                 1   \n",
       "Pärlan                                   3         3                 3   \n",
       "Raoul Wallenbergskolan                   4         4                 4   \n",
       "Rudbeck Valfrihetens Gymnasium           9         9                 9   \n",
       "Råsunda skola                            3         3                 3   \n",
       "Rösjöskolan                             12        12                12   \n",
       "Segelbåtens förskola                     1         1                 1   \n",
       "Skärholmens Gymnasieskolor               7         7                 7   \n",
       "Sofielundsskolan                         4         4                 4   \n",
       "Stockholm International School           3         3                 3   \n",
       "Stocksundsskolan                         1         1                 1   \n",
       "Sätraskolan                              9         9                 9   \n",
       "Ulriksdalsskolan                         3         3                 3   \n",
       "Vittra Rösjötorp                         5         5                 5   \n",
       "Västerholms friskola                     6         6                 6   \n",
       "\n",
       "                                userLocation  user_lat  user_long  \\\n",
       "school_name                                                         \n",
       "Almtunaskolans matsal                      3         3          3   \n",
       "Edsbergsskolan                            11        11         11   \n",
       "Gärdeskolan                               10        10         10   \n",
       "Hagalundsskolan                            2         2          2   \n",
       "Kärrdalsskolan                             5         5          5   \n",
       "Livets Ords kristna skola                  5         5          5   \n",
       "Nordiska musikgymnasiet                    2         2          2   \n",
       "Pysslingen                                 1         1          1   \n",
       "Pärlan                                     3         3          3   \n",
       "Raoul Wallenbergskolan                     4         4          4   \n",
       "Rudbeck Valfrihetens Gymnasium             9         9          9   \n",
       "Råsunda skola                              3         3          3   \n",
       "Rösjöskolan                               12        12         12   \n",
       "Segelbåtens förskola                       1         1          1   \n",
       "Skärholmens Gymnasieskolor                 7         7          7   \n",
       "Sofielundsskolan                           4         4          4   \n",
       "Stockholm International School             3         3          3   \n",
       "Stocksundsskolan                           1         1          1   \n",
       "Sätraskolan                                9         9          9   \n",
       "Ulriksdalsskolan                           3         3          3   \n",
       "Vittra Rösjötorp                           5         5          5   \n",
       "Västerholms friskola                       6         6          6   \n",
       "\n",
       "                                school_long  school_lat  osm_id  \n",
       "school_name                                                      \n",
       "Almtunaskolans matsal                     3           3       3  \n",
       "Edsbergsskolan                           11          11      11  \n",
       "Gärdeskolan                              10          10      10  \n",
       "Hagalundsskolan                           2           2       2  \n",
       "Kärrdalsskolan                            5           5       5  \n",
       "Livets Ords kristna skola                 5           5       5  \n",
       "Nordiska musikgymnasiet                   2           2       2  \n",
       "Pysslingen                                1           1       1  \n",
       "Pärlan                                    3           3       3  \n",
       "Raoul Wallenbergskolan                    4           4       4  \n",
       "Rudbeck Valfrihetens Gymnasium            9           9       9  \n",
       "Råsunda skola                             3           3       3  \n",
       "Rösjöskolan                              12          12      12  \n",
       "Segelbåtens förskola                      1           1       1  \n",
       "Skärholmens Gymnasieskolor                7           7       7  \n",
       "Sofielundsskolan                          4           4       4  \n",
       "Stockholm International School            3           3       3  \n",
       "Stocksundsskolan                          1           1       1  \n",
       "Sätraskolan                               9           9       9  \n",
       "Ulriksdalsskolan                          3           3       3  \n",
       "Vittra Rösjötorp                          5           5       5  \n",
       "Västerholms friskola                      6           6       6  "
      ]
     },
     "execution_count": 12,
     "metadata": {},
     "output_type": "execute_result"
    }
   ],
   "source": [
    "df.groupby(\"school_name\").count()"
   ]
  },
  {
   "cell_type": "code",
   "execution_count": 13,
   "metadata": {},
   "outputs": [],
   "source": [
    "dff = df.loc[df[\"schoolId\"] == 70223549 ]\n"
   ]
  },
  {
   "cell_type": "code",
   "execution_count": 14,
   "metadata": {},
   "outputs": [],
   "source": [
    "numerical = [\"user_long\", \"user_lat\"]\n",
    "\n",
    "X = dff[[c for c in dff.columns if c in numerical]]\n",
    "\n",
    "\n",
    "X = pd.DataFrame(X, columns=numerical)\n",
    "y = dff.iloc[:, -1]"
   ]
  },
  {
   "cell_type": "code",
   "execution_count": 15,
   "metadata": {},
   "outputs": [],
   "source": [
    "from sklearn.cluster import KMeans\n",
    "from sklearn import metrics"
   ]
  },
  {
   "cell_type": "code",
   "execution_count": 16,
   "metadata": {},
   "outputs": [],
   "source": [
    "\n",
    "kmeans = KMeans(n_clusters=3)\n",
    "\n",
    "#compute kmeans clustering\n",
    "kmeans.fit(X)\n",
    "#call the kmeans object, predict, to predict the cluster index of each sample. \n",
    "\n",
    "y_kmeans = kmeans.predict(X)"
   ]
  },
  {
   "cell_type": "code",
   "execution_count": 17,
   "metadata": {},
   "outputs": [
    {
     "data": {
      "text/plain": [
       "array([1, 1, 1, 1, 1, 2, 2, 2, 2, 0, 0, 0])"
      ]
     },
     "execution_count": 17,
     "metadata": {},
     "output_type": "execute_result"
    }
   ],
   "source": [
    "y_kmeans"
   ]
  },
  {
   "cell_type": "code",
   "execution_count": 18,
   "metadata": {},
   "outputs": [],
   "source": [
    "def evaluation_metrics(X, labels_pred, metric_name):\n",
    "\n",
    "\n",
    "        s_s = metrics.silhouette_score(X, labels_pred, metric=metric_name)\n",
    "       \n",
    "\n",
    "        metrics_names = [\"Silh_S\"]\n",
    "        values = [s_s]\n",
    "        \n",
    "\n",
    "        result = list(zip(metrics_names,values))\n",
    "        result = pd.DataFrame(result, columns=['Metric','Value'])\n",
    "\n",
    "        return result\n"
   ]
  },
  {
   "cell_type": "code",
   "execution_count": 19,
   "metadata": {},
   "outputs": [
    {
     "data": {
      "text/html": [
       "<div>\n",
       "<style scoped>\n",
       "    .dataframe tbody tr th:only-of-type {\n",
       "        vertical-align: middle;\n",
       "    }\n",
       "\n",
       "    .dataframe tbody tr th {\n",
       "        vertical-align: top;\n",
       "    }\n",
       "\n",
       "    .dataframe thead th {\n",
       "        text-align: right;\n",
       "    }\n",
       "</style>\n",
       "<table border=\"1\" class=\"dataframe\">\n",
       "  <thead>\n",
       "    <tr style=\"text-align: right;\">\n",
       "      <th></th>\n",
       "      <th>Metric</th>\n",
       "      <th>Value</th>\n",
       "    </tr>\n",
       "  </thead>\n",
       "  <tbody>\n",
       "    <tr>\n",
       "      <th>0</th>\n",
       "      <td>Silh_S</td>\n",
       "      <td>0.708996</td>\n",
       "    </tr>\n",
       "  </tbody>\n",
       "</table>\n",
       "</div>"
      ],
      "text/plain": [
       "   Metric     Value\n",
       "0  Silh_S  0.708996"
      ]
     },
     "execution_count": 19,
     "metadata": {},
     "output_type": "execute_result"
    }
   ],
   "source": [
    "evaluation_metrics(X, kmeans.labels_, \"euclidean\" )"
   ]
  },
  {
   "cell_type": "code",
   "execution_count": 20,
   "metadata": {},
   "outputs": [],
   "source": [
    "import hdbscan"
   ]
  },
  {
   "cell_type": "code",
   "execution_count": 21,
   "metadata": {},
   "outputs": [
    {
     "data": {
      "text/plain": [
       "HDBSCAN(metric='haversine', min_cluster_size=3)"
      ]
     },
     "execution_count": 21,
     "metadata": {},
     "output_type": "execute_result"
    }
   ],
   "source": [
    "clusterer = hdbscan.HDBSCAN(min_cluster_size=3, metric = 'haversine')\n",
    "clusterer.fit(X)"
   ]
  },
  {
   "cell_type": "code",
   "execution_count": 22,
   "metadata": {},
   "outputs": [],
   "source": [
    "hdbscan_result = clusterer.labels_\n"
   ]
  },
  {
   "cell_type": "code",
   "execution_count": 23,
   "metadata": {},
   "outputs": [
    {
     "data": {
      "text/plain": [
       "array([1, 1, 1, 1, 1, 2, 2, 2, 2, 0, 0, 0], dtype=int32)"
      ]
     },
     "execution_count": 23,
     "metadata": {},
     "output_type": "execute_result"
    }
   ],
   "source": [
    "hdbscan_result"
   ]
  },
  {
   "cell_type": "code",
   "execution_count": 24,
   "metadata": {},
   "outputs": [
    {
     "data": {
      "text/html": [
       "<div>\n",
       "<style scoped>\n",
       "    .dataframe tbody tr th:only-of-type {\n",
       "        vertical-align: middle;\n",
       "    }\n",
       "\n",
       "    .dataframe tbody tr th {\n",
       "        vertical-align: top;\n",
       "    }\n",
       "\n",
       "    .dataframe thead th {\n",
       "        text-align: right;\n",
       "    }\n",
       "</style>\n",
       "<table border=\"1\" class=\"dataframe\">\n",
       "  <thead>\n",
       "    <tr style=\"text-align: right;\">\n",
       "      <th></th>\n",
       "      <th>Metric</th>\n",
       "      <th>Value</th>\n",
       "    </tr>\n",
       "  </thead>\n",
       "  <tbody>\n",
       "    <tr>\n",
       "      <th>0</th>\n",
       "      <td>Silh_S</td>\n",
       "      <td>0.708996</td>\n",
       "    </tr>\n",
       "  </tbody>\n",
       "</table>\n",
       "</div>"
      ],
      "text/plain": [
       "   Metric     Value\n",
       "0  Silh_S  0.708996"
      ]
     },
     "execution_count": 24,
     "metadata": {},
     "output_type": "execute_result"
    }
   ],
   "source": [
    "evaluation_metrics(X, clusterer.labels_, \"euclidean\" )"
   ]
  },
  {
   "cell_type": "code",
   "execution_count": 25,
   "metadata": {},
   "outputs": [],
   "source": [
    "from sklearn.cluster import AgglomerativeClustering"
   ]
  },
  {
   "cell_type": "markdown",
   "metadata": {},
   "source": [
    " "
   ]
  },
  {
   "cell_type": "code",
   "execution_count": 26,
   "metadata": {},
   "outputs": [],
   "source": [
    "model = AgglomerativeClustering(n_clusters=3, affinity='euclidean', linkage='ward')\n"
   ]
  },
  {
   "cell_type": "code",
   "execution_count": 27,
   "metadata": {},
   "outputs": [
    {
     "data": {
      "text/plain": [
       "AgglomerativeClustering(n_clusters=3)"
      ]
     },
     "execution_count": 27,
     "metadata": {},
     "output_type": "execute_result"
    }
   ],
   "source": [
    "model.fit(X)\n"
   ]
  },
  {
   "cell_type": "code",
   "execution_count": 28,
   "metadata": {},
   "outputs": [],
   "source": [
    "labels = model.labels_"
   ]
  },
  {
   "cell_type": "code",
   "execution_count": 29,
   "metadata": {},
   "outputs": [
    {
     "data": {
      "text/plain": [
       "array([2, 2, 2, 2, 2, 0, 0, 0, 0, 1, 1, 1], dtype=int32)"
      ]
     },
     "execution_count": 29,
     "metadata": {},
     "output_type": "execute_result"
    }
   ],
   "source": [
    "labels\n"
   ]
  },
  {
   "cell_type": "code",
   "execution_count": 30,
   "metadata": {
    "scrolled": true
   },
   "outputs": [
    {
     "data": {
      "text/html": [
       "<div>\n",
       "<style scoped>\n",
       "    .dataframe tbody tr th:only-of-type {\n",
       "        vertical-align: middle;\n",
       "    }\n",
       "\n",
       "    .dataframe tbody tr th {\n",
       "        vertical-align: top;\n",
       "    }\n",
       "\n",
       "    .dataframe thead th {\n",
       "        text-align: right;\n",
       "    }\n",
       "</style>\n",
       "<table border=\"1\" class=\"dataframe\">\n",
       "  <thead>\n",
       "    <tr style=\"text-align: right;\">\n",
       "      <th></th>\n",
       "      <th>Metric</th>\n",
       "      <th>Value</th>\n",
       "    </tr>\n",
       "  </thead>\n",
       "  <tbody>\n",
       "    <tr>\n",
       "      <th>0</th>\n",
       "      <td>Silh_S</td>\n",
       "      <td>0.708996</td>\n",
       "    </tr>\n",
       "  </tbody>\n",
       "</table>\n",
       "</div>"
      ],
      "text/plain": [
       "   Metric     Value\n",
       "0  Silh_S  0.708996"
      ]
     },
     "execution_count": 30,
     "metadata": {},
     "output_type": "execute_result"
    }
   ],
   "source": [
    "evaluation_metrics(X, model.labels_, \"euclidean\" )"
   ]
  },
  {
   "cell_type": "code",
   "execution_count": 31,
   "metadata": {},
   "outputs": [],
   "source": [
    "from sklearn.cluster import SpectralClustering"
   ]
  },
  {
   "cell_type": "code",
   "execution_count": 32,
   "metadata": {},
   "outputs": [],
   "source": [
    "sc = SpectralClustering(n_clusters = 2, affinity='nearest_neighbors', n_init=100)\n"
   ]
  },
  {
   "cell_type": "code",
   "execution_count": 33,
   "metadata": {},
   "outputs": [
    {
     "data": {
      "text/plain": [
       "SpectralClustering(affinity='nearest_neighbors', n_clusters=2, n_init=100)"
      ]
     },
     "execution_count": 33,
     "metadata": {},
     "output_type": "execute_result"
    }
   ],
   "source": [
    "sc.fit(X)"
   ]
  },
  {
   "cell_type": "code",
   "execution_count": 34,
   "metadata": {},
   "outputs": [
    {
     "data": {
      "text/plain": [
       "array([0, 0, 0, 0, 0, 0, 0, 0, 1, 1, 1, 1])"
      ]
     },
     "execution_count": 34,
     "metadata": {},
     "output_type": "execute_result"
    }
   ],
   "source": [
    " sc.labels_\n"
   ]
  },
  {
   "cell_type": "code",
   "execution_count": 35,
   "metadata": {},
   "outputs": [
    {
     "data": {
      "text/html": [
       "<div>\n",
       "<style scoped>\n",
       "    .dataframe tbody tr th:only-of-type {\n",
       "        vertical-align: middle;\n",
       "    }\n",
       "\n",
       "    .dataframe tbody tr th {\n",
       "        vertical-align: top;\n",
       "    }\n",
       "\n",
       "    .dataframe thead th {\n",
       "        text-align: right;\n",
       "    }\n",
       "</style>\n",
       "<table border=\"1\" class=\"dataframe\">\n",
       "  <thead>\n",
       "    <tr style=\"text-align: right;\">\n",
       "      <th></th>\n",
       "      <th>Metric</th>\n",
       "      <th>Value</th>\n",
       "    </tr>\n",
       "  </thead>\n",
       "  <tbody>\n",
       "    <tr>\n",
       "      <th>0</th>\n",
       "      <td>Silh_S</td>\n",
       "      <td>0.597806</td>\n",
       "    </tr>\n",
       "  </tbody>\n",
       "</table>\n",
       "</div>"
      ],
      "text/plain": [
       "   Metric     Value\n",
       "0  Silh_S  0.597806"
      ]
     },
     "execution_count": 35,
     "metadata": {},
     "output_type": "execute_result"
    }
   ],
   "source": [
    "evaluation_metrics(X, sc.labels_, \"euclidean\" )"
   ]
  },
  {
   "cell_type": "code",
   "execution_count": null,
   "metadata": {},
   "outputs": [],
   "source": []
  }
 ],
 "metadata": {
  "kernelspec": {
   "display_name": "Python 3",
   "language": "python",
   "name": "python3"
  },
  "language_info": {
   "codemirror_mode": {
    "name": "ipython",
    "version": 3
   },
   "file_extension": ".py",
   "mimetype": "text/x-python",
   "name": "python",
   "nbconvert_exporter": "python",
   "pygments_lexer": "ipython3",
   "version": "3.8.5"
  }
 },
 "nbformat": 4,
 "nbformat_minor": 4
}
